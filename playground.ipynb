{
 "cells": [
  {
   "cell_type": "code",
   "execution_count": 1,
   "id": "0f21fadc-28b1-4005-814a-c0ee30578a79",
   "metadata": {},
   "outputs": [],
   "source": [
    "import pandas as pd\n",
    "\n",
    "# Set autoreload mode to automatically reload all modules before executing any code\n",
    "%load_ext autoreload\n",
    "%autoreload 2\n",
    "\n",
    "from custom_logger import CustomLogger"
   ]
  },
  {
   "cell_type": "code",
   "execution_count": 2,
   "id": "7bb4ed33-47af-45dd-80c1-1d14ce44b9e0",
   "metadata": {},
   "outputs": [],
   "source": [
    "logger = CustomLogger(log_file_path=\"logs/my_log.log\", debug_mode=True)"
   ]
  },
  {
   "cell_type": "markdown",
   "id": "f7a65ef9-1d59-47b0-9962-0a40066cc52d",
   "metadata": {},
   "source": [
    "# Introduction\n",
    "In this notebook I be predicting whether a transaction is fraudulent or not and to predict this we will be building an ML model using a real-world e-commerce dataset.\n",
    "\n",
    "Accurate predictions are crucial: false positives harm customer experience, while false negatives result in financial losses. The model must provide instant predictions to be effective. Additionally, it is particularly necessary for understanding why a transaction is flagged as fraudulent."
   ]
  },
  {
   "cell_type": "markdown",
   "id": "1e1a6b98-a9cd-449a-b2fc-2aaf61c54e5e",
   "metadata": {},
   "source": [
    "# EDA"
   ]
  },
  {
   "cell_type": "markdown",
   "id": "722fc7e6-1d3e-48e9-8a6e-a8cc1a44342b",
   "metadata": {},
   "source": [
    "In the first part, I've conducted an in-depth Exploratory Data Analysis (EDA) of the IEEE-CIS Fraud Detection dataset to uncover patterns in fraudulent transactions. The IEEE-CIS Fraud Detection page here: https://www.kaggle.com/c/ieee-fraud-detection/overview\n",
    "\n",
    "I’ve included all of my code deliberately, with the goal of creating a solid EDA codebase that will streamline the development process."
   ]
  },
  {
   "cell_type": "markdown",
   "id": "fdd099a7-12b8-4b36-b193-e961e0f26658",
   "metadata": {},
   "source": [
    "## Loading Dataset"
   ]
  },
  {
   "cell_type": "code",
   "execution_count": 3,
   "id": "e97cf357-7401-4e55-9a9f-1c2f3e45b94e",
   "metadata": {},
   "outputs": [
    {
     "name": "stdout",
     "output_type": "stream",
     "text": [
      "Train Transaction Dataset Shape: (590540, 394)\n",
      "Train Identity Dataset Shape: (144233, 41)\n",
      "Test Transaction Dataset Shape: (506691, 393)\n",
      "Test Identity Dataset Shape: (141907, 41)\n"
     ]
    }
   ],
   "source": [
    "# Load the transaction and identity datasets\n",
    "train_transaction = pd.read_csv(\"ieee-fraud-detection/train_transaction.csv\")\n",
    "train_identity = pd.read_csv(\"ieee-fraud-detection/train_identity.csv\")\n",
    "test_transaction = pd.read_csv(\"ieee-fraud-detection/test_transaction.csv\")\n",
    "test_identity = pd.read_csv(\"ieee-fraud-detection/test_identity.csv\")\n",
    "\n",
    "# Display basic information about the datasets with formatted output\n",
    "print(f\"Train Transaction Dataset Shape: {train_transaction.shape}\")\n",
    "print(f\"Train Identity Dataset Shape: {train_identity.shape}\")\n",
    "print(f\"Test Transaction Dataset Shape: {test_transaction.shape}\")\n",
    "print(f\"Test Identity Dataset Shape: {test_identity.shape}\")"
   ]
  }
 ],
 "metadata": {
  "kernelspec": {
   "display_name": "Python 3 (ipykernel)",
   "language": "python",
   "name": "python3"
  },
  "language_info": {
   "codemirror_mode": {
    "name": "ipython",
    "version": 3
   },
   "file_extension": ".py",
   "mimetype": "text/x-python",
   "name": "python",
   "nbconvert_exporter": "python",
   "pygments_lexer": "ipython3",
   "version": "3.10.14"
  }
 },
 "nbformat": 4,
 "nbformat_minor": 5
}
