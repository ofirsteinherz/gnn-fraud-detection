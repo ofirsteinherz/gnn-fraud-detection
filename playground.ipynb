{
 "cells": [
  {
   "cell_type": "code",
   "execution_count": 1,
   "id": "0f21fadc-28b1-4005-814a-c0ee30578a79",
   "metadata": {},
   "outputs": [],
   "source": [
    "# Set autoreload mode to automatically reload all modules before executing any code\n",
    "%load_ext autoreload\n",
    "%autoreload 2\n",
    "\n",
    "from custom_logger import CustomLogger"
   ]
  },
  {
   "cell_type": "code",
   "execution_count": 2,
   "id": "7bb4ed33-47af-45dd-80c1-1d14ce44b9e0",
   "metadata": {},
   "outputs": [],
   "source": [
    "logger = CustomLogger(log_file_path=\"logs/my_log.log\", debug_mode=True)"
   ]
  },
  {
   "cell_type": "code",
   "execution_count": 4,
   "id": "e50be8f7-2d83-4038-998c-25ba65b81fe4",
   "metadata": {},
   "outputs": [
    {
     "data": {
      "text/html": [
       "<pre style=\"white-space:pre;overflow-x:auto;line-height:normal;font-family:Menlo,'DejaVu Sans Mono',consolas,'Courier New',monospace\"><span style=\"color: #7fbfbf; text-decoration-color: #7fbfbf\">[09/02/24 21:47:08] </span><span style=\"color: #008000; text-decoration-color: #008000\">DEBUG   </span> Doing something in AnotherClass.                                   <a href=\"file:///Users/ofir/Documents/Development/gnn-fraud-detection/custom_logger.py\" target=\"_blank\"><span style=\"color: #7f7f7f; text-decoration-color: #7f7f7f\">custom_logger.py</span></a><span style=\"color: #7f7f7f; text-decoration-color: #7f7f7f\">:</span><a href=\"file:///Users/ofir/Documents/Development/gnn-fraud-detection/custom_logger.py#55\" target=\"_blank\"><span style=\"color: #7f7f7f; text-decoration-color: #7f7f7f\">55</span></a>\n",
       "</pre>\n"
      ],
      "text/plain": [
       "\u001b[2;36m[09/02/24 21:47:08]\u001b[0m\u001b[2;36m \u001b[0m\u001b[32mDEBUG   \u001b[0m Doing something in AnotherClass.                                   \u001b]8;id=933026;file:///Users/ofir/Documents/Development/gnn-fraud-detection/custom_logger.py\u001b\\\u001b[2mcustom_logger.py\u001b[0m\u001b]8;;\u001b\\\u001b[2m:\u001b[0m\u001b]8;id=334350;file:///Users/ofir/Documents/Development/gnn-fraud-detection/custom_logger.py#55\u001b\\\u001b[2m55\u001b[0m\u001b]8;;\u001b\\\n"
      ]
     },
     "metadata": {},
     "output_type": "display_data"
    }
   ],
   "source": [
    "logger.log(\"debug\", \"Doing something in AnotherClass.\")"
   ]
  },
  {
   "cell_type": "code",
   "execution_count": null,
   "id": "55e35d9d-fd7c-45b4-86cd-d549c00000d9",
   "metadata": {},
   "outputs": [],
   "source": []
  }
 ],
 "metadata": {
  "kernelspec": {
   "display_name": "Python 3 (ipykernel)",
   "language": "python",
   "name": "python3"
  },
  "language_info": {
   "codemirror_mode": {
    "name": "ipython",
    "version": 3
   },
   "file_extension": ".py",
   "mimetype": "text/x-python",
   "name": "python",
   "nbconvert_exporter": "python",
   "pygments_lexer": "ipython3",
   "version": "3.10.7"
  }
 },
 "nbformat": 4,
 "nbformat_minor": 5
}
